{
 "cells": [
  {
   "cell_type": "code",
   "execution_count": 2,
   "id": "desirable-nowhere",
   "metadata": {},
   "outputs": [],
   "source": [
    "import numpy as np\n",
    "import pandas as pd"
   ]
  },
  {
   "cell_type": "markdown",
   "id": "alone-period",
   "metadata": {},
   "source": [
    "### Test"
   ]
  },
  {
   "cell_type": "code",
   "execution_count": 112,
   "id": "korean-composite",
   "metadata": {},
   "outputs": [
    {
     "data": {
      "text/plain": [
       "[[1245, 775]]"
      ]
     },
     "execution_count": 112,
     "metadata": {},
     "output_type": "execute_result"
    }
   ],
   "source": [
    "xs = pd.read_csv('dataset.txt', header = None)\n",
    "xs = xs[0].values\n",
    "xs.sort()\n",
    "\n",
    "xsum = 2020\n",
    "level = xsum // 2 \n",
    "\n",
    "res = []\n",
    "hxs = xs[xs > level]\n",
    "lxs = xs[xs <= level]\n",
    "\n",
    "for h in hxs:\n",
    "    for l in lxs:\n",
    "        if h + l == xsum:\n",
    "            res.append([h,l])\n",
    "        elif h + l > xsum:\n",
    "            break\n",
    "res "
   ]
  },
  {
   "cell_type": "markdown",
   "id": "growing-diabetes",
   "metadata": {},
   "source": [
    "### Two number sum"
   ]
  },
  {
   "cell_type": "code",
   "execution_count": 134,
   "id": "baking-chapel",
   "metadata": {},
   "outputs": [
    {
     "name": "stdout",
     "output_type": "stream",
     "text": [
      "964875\n"
     ]
    }
   ],
   "source": [
    "xs = pd.read_csv('dataset.txt', header = None)\n",
    "xs = xs[0].values\n",
    "xs.sort()\n",
    "\n",
    "xsum = 2020\n",
    "level = xsum // 2 \n",
    "\n",
    "\n",
    "lxs = xs[xs <= level]\n",
    "hxs = xs[xs > level]\n",
    "\n",
    "\n",
    "ub = xsum - lxs[0]\n",
    "lb = xsum - lxs[-1]\n",
    "hxs = hxs[hxs <= ub]\n",
    "hxs = hxs[hxs >= lb]\n",
    "\n",
    "res = []\n",
    "for h in hxs:\n",
    "    for l in lxs:\n",
    "        if h + l == xsum:\n",
    "            res.append([h,l])\n",
    "        elif h + l > xsum:\n",
    "            break\n",
    "            \n",
    "for r in res:\n",
    "    print(np.prod(r))"
   ]
  },
  {
   "cell_type": "code",
   "execution_count": null,
   "id": "sublime-commission",
   "metadata": {},
   "outputs": [],
   "source": [
    "### Three numbers sum"
   ]
  },
  {
   "cell_type": "code",
   "execution_count": 118,
   "id": "featured-toilet",
   "metadata": {},
   "outputs": [],
   "source": [
    "xs = pd.read_csv('dataset.txt', header = None)\n",
    "xs = xs[0].values\n",
    "xs.sort()\n",
    "\n",
    "xsum = 2020\n",
    "level = xsum // 2 \n",
    "\n",
    "lxs = xs[xs <= level]\n",
    "hxs = xs[xs > level]\n"
   ]
  },
  {
   "cell_type": "code",
   "execution_count": 133,
   "id": "finite-involvement",
   "metadata": {},
   "outputs": [
    {
     "name": "stdout",
     "output_type": "stream",
     "text": [
      "158661360\n"
     ]
    }
   ],
   "source": [
    "import itertools\n",
    "\n",
    "it = itertools.combinations(lxs, 2)\n",
    "lcs = np.array(list(it))\n",
    "\n",
    "\n",
    "\n",
    "res = []\n",
    "for h in hxs:\n",
    "    for l in lcs:\n",
    "        if h + l[0] + l[1] == xsum:\n",
    "            res.append([h,l[0], l[1]])\n",
    "\n",
    "for r in res:\n",
    "    print(np.prod(r))"
   ]
  },
  {
   "cell_type": "code",
   "execution_count": null,
   "id": "intelligent-merchant",
   "metadata": {},
   "outputs": [],
   "source": []
  }
 ],
 "metadata": {
  "kernelspec": {
   "display_name": "Python 3",
   "language": "python",
   "name": "python3"
  },
  "language_info": {
   "codemirror_mode": {
    "name": "ipython",
    "version": 3
   },
   "file_extension": ".py",
   "mimetype": "text/x-python",
   "name": "python",
   "nbconvert_exporter": "python",
   "pygments_lexer": "ipython3",
   "version": "3.7.6"
  }
 },
 "nbformat": 4,
 "nbformat_minor": 5
}
